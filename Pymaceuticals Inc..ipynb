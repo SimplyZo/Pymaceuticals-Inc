{
 "cells": [
  {
   "cell_type": "code",
   "execution_count": null,
   "id": "af8a51ca",
   "metadata": {},
   "outputs": [],
   "source": [
    "# Dependencies and Setup\n",
    "import matplotlib.pyplot as plt\n",
    "import pandas as pd\n",
    "import scipy.stats as st"
   ]
  },
  {
   "cell_type": "code",
   "execution_count": null,
   "id": "a76cc807",
   "metadata": {},
   "outputs": [],
   "source": [
    "# Study data files\n",
    "mouse_metadata_path = \"Resources/Mouse_metadata.csv\"\n",
    "study_results_path = \"Resources/Study_results.csv\""
   ]
  },
  {
   "cell_type": "code",
   "execution_count": null,
   "id": "82c9d16d",
   "metadata": {},
   "outputs": [],
   "source": [
    "# Read the mouse metadata file\n",
    "mouse_metadata = pd.read_csv(mouse_metadata_path)\n",
    "mouse_metadata"
   ]
  },
  {
   "cell_type": "code",
   "execution_count": null,
   "id": "aa8e6fb5",
   "metadata": {},
   "outputs": [],
   "source": [
    "# Read the mouse metadata file\n",
    "study_results = pd.read_csv(study_results_path)\n",
    "study_results"
   ]
  },
  {
   "cell_type": "code",
   "execution_count": null,
   "id": "71aba946",
   "metadata": {},
   "outputs": [],
   "source": [
    "# Merge our two data frames together\n",
    "combined_mousestudy_df = pd.merge(mouse_metadata, study_results, how='outer', on=\"Mouse ID\")"
   ]
  },
  {
   "cell_type": "code",
   "execution_count": null,
   "id": "f1f6ba50",
   "metadata": {},
   "outputs": [],
   "source": [
    "# Display the data table for preview\n",
    "combined_mousestudy_df.head()"
   ]
  },
  {
   "cell_type": "code",
   "execution_count": null,
   "id": "4940adc9",
   "metadata": {},
   "outputs": [],
   "source": [
    "# Checking the number of mice.\n",
    "mice_count = combined_mousestudy_df[\"Mouse ID\"].nunique()\n",
    "mice_count"
   ]
  },
  {
   "cell_type": "code",
   "execution_count": null,
   "id": "6e5a5900",
   "metadata": {},
   "outputs": [],
   "source": [
    "# Our data should be uniquely identified by Mouse ID and Timepoint\n",
    "# Get the duplicate mice by ID number that shows up for Mouse ID and Timepoint. \n",
    "duplicate_mouse = combined_mousestudy_df.loc[combined_mousestudy_df.duplicated(subset=[\"Mouse ID\", \"Timepoint\",]), \"Mouse ID\"].unique()\n",
    "duplicate_mouse"
   ]
  },
  {
   "cell_type": "code",
   "execution_count": null,
   "id": "173670ad",
   "metadata": {},
   "outputs": [],
   "source": [
    "# Optional: Get all the data for the duplicate mouse ID. \n",
    "duplicate_mouse_rows = combined_mousestudy_df.loc[combined_mousestudy_df[\"Mouse ID\"] == \"g989\", :]\n",
    "duplicate_mouse_rows"
   ]
  },
  {
   "cell_type": "code",
   "execution_count": null,
   "id": "e13867fc",
   "metadata": {},
   "outputs": [],
   "source": [
    "# Create a clean DataFrame by dropping the duplicate mouse by its ID.\n",
    "combined_duplicate_removal = combined_mousestudy_df[combined_mousestudy_df['Mouse ID'].isin(duplicate_mouse)==False]\n",
    "combined_duplicate_removal.head()"
   ]
  },
  {
   "cell_type": "code",
   "execution_count": null,
   "id": "80cafb3e",
   "metadata": {},
   "outputs": [],
   "source": [
    "# Checking the number of mice in the clean DataFrame.\n",
    "duplicate_removal_clean = combined_duplicate_removal[\"Mouse ID\"].nunique()\n",
    "duplicate_removal_clean"
   ]
  },
  {
   "cell_type": "markdown",
   "id": "e57d8c31",
   "metadata": {},
   "source": [
    "# Summary Statistics "
   ]
  },
  {
   "cell_type": "code",
   "execution_count": null,
   "id": "da3d37ac",
   "metadata": {},
   "outputs": [],
   "source": [
    "# Generate a summary statistics table of mean, median, variance, standard deviation, and SEM of the tumor volume for each regimen\n",
    "\n",
    "# Use groupby and summary statistical methods to calculate the following properties of each drug regimen: \n",
    "# mean, median, variance, standard deviation, and SEM of the tumor volume. \n",
    "data_mean = combined_duplicate_removal['Tumor Volume (mm3)'].groupby(combined_duplicate_removal['Drug Regimen']).mean()\n",
    "data_median = combined_duplicate_removal['Tumor Volume (mm3)'].groupby(combined_duplicate_removal['Drug Regimen']).median()\n",
    "data_variance = combined_duplicate_removal['Tumor Volume (mm3)'].groupby(combined_duplicate_removal['Drug Regimen']).var()\n",
    "data_std = combined_duplicate_removal['Tumor Volume (mm3)'].groupby(combined_duplicate_removal['Drug Regimen']).std()\n",
    "data_sem = combined_duplicate_removal['Tumor Volume (mm3)'].groupby(combined_duplicate_removal['Drug Regimen']).sem()\n",
    "\n",
    "summary_stat_table = pd.DataFrame({\"Mean Tumor Volume\": data_mean,\n",
    "                                  \"Median Tumor Volume\": data_median,\n",
    "                                  \"Tumor Volume Variance\": data_variance,\n",
    "                                  \"Tumor Volume Standard Deviation\": data_std,\n",
    "                                  \"Tumor Volume SEM\": data_sem})\n",
    "# Assemble the resulting series into a single summary DataFrame.\n",
    "summary_stat_table"
   ]
  },
  {
   "cell_type": "code",
   "execution_count": null,
   "id": "39e0d475",
   "metadata": {},
   "outputs": [],
   "source": [
    "# A more advanced method to generate a summary statistics table of mean, median, variance, standard deviation,\n",
    "# and SEM of the tumor volume for each regimen (only one method is required in the solution)\n",
    "summary_aggregate = combined_duplicate_removal.groupby(['Drug Regimen'])[['Tumor Volume (mm3)']].agg(['mean', 'median', 'var', 'std', 'sem'])\n",
    "\n",
    "# Using the aggregation method, produce the same summary statistics in a single line\n",
    "summary_aggregate"
   ]
  },
  {
   "cell_type": "markdown",
   "id": "56b522dd",
   "metadata": {},
   "source": [
    "# Bar and Pie Charts"
   ]
  },
  {
   "cell_type": "code",
   "execution_count": null,
   "id": "c508f341",
   "metadata": {},
   "outputs": [],
   "source": [
    "# total drug regimen for each mouse\n",
    "drug_per_mouse = combined_duplicate_removal[\"Drug Regimen\"].value_counts()\n",
    "drug_per_mouse"
   ]
  },
  {
   "cell_type": "code",
   "execution_count": null,
   "id": "a1f4edca",
   "metadata": {},
   "outputs": [],
   "source": [
    "# Generate a bar plot showing the total number of rows (Mouse ID/Timepoints) for each drug regimen using Pandas.\n",
    "mouse_bar_plot = drug_per_mouse.plot.bar(color=\"blue\", alpha=0.5)\n",
    "\n",
    "# Set the x and y labels\n",
    "plt.xlabel(\"Drug Regimen\")\n",
    "plt.ylabel(\"# of Observed Mouse Timepoints\")\n",
    "plt.title(\"# of Mouse per Treatment\")"
   ]
  },
  {
   "cell_type": "code",
   "execution_count": null,
   "id": "d3e31649",
   "metadata": {},
   "outputs": [],
   "source": [
    "# Generate a bar plot showing the total number of rows (Mouse ID/Timepoints) for each drug regimen using pyplot.\n",
    "x_axis = drug_per_mouse.index.values\n",
    "y_axis = drug_per_mouse.values\n",
    "\n",
    "# Create a pyplot using the data from previous plot.bar\n",
    "plt.bar(x_axis, y_axis, color=\"blue\", alpha=0.5, align='center')\n",
    "\n",
    "# Set the xlabel and ylabel, title using class methods\n",
    "plt.title(\"# of Mouse per Treatment\")\n",
    "plt.xlabel(\"Drug Regimen\")\n",
    "plt.ylabel(\"# of Observed Mouse Timepoints\")\n",
    "plt.xticks(rotation=\"vertical\")\n",
    "\n",
    "plt.show()"
   ]
  },
  {
   "cell_type": "code",
   "execution_count": null,
   "id": "3972a277",
   "metadata": {},
   "outputs": [],
   "source": [
    "# Generate a pie plot showing the distribution of female versus male mice using Pandas\n",
    "gender_data = combined_duplicate_removal[\"Sex\"].value_counts()\n",
    "plt.title(\"Female vs Male mice\")\n",
    "gender_data.plot.pie(autopct=\"%1.1f%%\")\n",
    "plt.show()"
   ]
  },
  {
   "cell_type": "code",
   "execution_count": null,
   "id": "f673ee3b",
   "metadata": {},
   "outputs": [],
   "source": [
    "# Generate a pie plot showing the distribution of female versus male mice using pyplot\n",
    "labels = ['Female', 'Male']\n",
    "sizes = [49, 51]\n",
    "plot = gender_data.plot.pie(y='Total Count', autopct=\"%1.1f%%\")\n",
    "plt.title(\"Female vs Male mice\")\n",
    "plt.ylabel('Sex')\n",
    "plt.show()"
   ]
  },
  {
   "cell_type": "markdown",
   "id": "7ccdce30",
   "metadata": {},
   "source": [
    "# Quartiles, Outliers and Boxplots"
   ]
  },
  {
   "cell_type": "code",
   "execution_count": null,
   "id": "a211c47a",
   "metadata": {},
   "outputs": [],
   "source": [
    "# Calculate the final tumor volume of each mouse across four of the treatment regimens:  \n",
    "# Capomulin, Ramicane, Infubinol, and Ceftamin\n",
    "Capomulin_df = combined_duplicate_removal.loc[combined_duplicate_removal[\"Drug Regimen\"] == \"Capomulin\", :]\n",
    "Ramicane_df = combined_duplicate_removal.loc[combined_duplicate_removal[\"Drug Regimen\"] == \"Ramicane\", :]\n",
    "Infubinol_df = combined_duplicate_removal.loc[combined_duplicate_removal[\"Drug Regimen\"] == \"Infubinol\", :]\n",
    "Ceftamin_df = combined_duplicate_removal.loc[combined_duplicate_removal[\"Drug Regimen\"] == \"Ceftamin\", :]\n",
    "Capomulin_df.head()"
   ]
  },
  {
   "cell_type": "code",
   "execution_count": null,
   "id": "749cfcf5",
   "metadata": {},
   "outputs": [],
   "source": [
    "# Start by getting the last (greatest) timepoint for each mouse\n",
    "# Merge this group df with the original DataFrame to get the tumor volume at the last timepoint\n",
    "# start from top to bottom. First Capomulin\n",
    "Capomulin_last = Capomulin_df.groupby('Mouse ID').max()['Timepoint']\n",
    "Capomulin_volume = pd.DataFrame(Capomulin_last)\n",
    "Capomulin_merge = pd.merge(Capomulin_volume, combined_duplicate_removal, on=(\"Mouse ID\",\"Timepoint\"),how=\"left\")\n",
    "Capomulin_merge.head()"
   ]
  },
  {
   "cell_type": "code",
   "execution_count": null,
   "id": "c31ca51e",
   "metadata": {},
   "outputs": [],
   "source": [
    "# Capture tumor volume\n",
    "Capomulin_tumors = Capomulin_merge[\"Tumor Volume (mm3)\"]"
   ]
  },
  {
   "cell_type": "code",
   "execution_count": null,
   "id": "f19ed8b1",
   "metadata": {},
   "outputs": [],
   "source": [
    "# Capture Capomulin quartiles, lowerq, upper and iqr\n",
    "quartile = Capomulin_tumors.quantile([.25,.5,.75])\n",
    "lowerq = quartile[0.25]\n",
    "upperq = quartile[0.75]\n",
    "iqr = upperq-lowerq"
   ]
  },
  {
   "cell_type": "code",
   "execution_count": null,
   "id": "66d5549f",
   "metadata": {},
   "outputs": [],
   "source": [
    "# Print tumor quartiles\n",
    "print(f\"The lower quartile of Capomulin tumors: {lowerq}\")\n",
    "print(f\"The upper quartile of Capomulin tumors: {upperq}\")\n",
    "print(f\"The interquartile range of Capomulin tumors: {iqr}\")\n",
    "print(f\"The median of Capomulin tumors: {quartile[0.5]} \")"
   ]
  },
  {
   "cell_type": "code",
   "execution_count": null,
   "id": "1a055507",
   "metadata": {},
   "outputs": [],
   "source": [
    "# Capture Capomulin outliers\n",
    "lower_bound = lowerq - (1.5*iqr)\n",
    "upper_bound = upperq + (1.5*iqr)"
   ]
  },
  {
   "cell_type": "code",
   "execution_count": null,
   "id": "87286468",
   "metadata": {},
   "outputs": [],
   "source": [
    "# Print outliter values\n",
    "print(f\"Capomulin values below {lower_bound} and above {upper_bound} could be potential outliers.\")"
   ]
  },
  {
   "cell_type": "code",
   "execution_count": null,
   "id": "92a276c9",
   "metadata": {},
   "outputs": [],
   "source": [
    "# Second Ramicane (2)\n",
    "Ramicane_last = Ramicane_df.groupby('Mouse ID').max()['Timepoint']\n",
    "Ramicane_volume = pd.DataFrame(Ramicane_last)\n",
    "Ramicane_merge = pd.merge(Ramicane_volume, combined_duplicate_removal, on=(\"Mouse ID\",\"Timepoint\"),how=\"left\")\n",
    "Ramicane_merge.head()"
   ]
  },
  {
   "cell_type": "code",
   "execution_count": null,
   "id": "cab7d9af",
   "metadata": {},
   "outputs": [],
   "source": [
    "# Capture tumor volume\n",
    "Ramicane_tumors = Ramicane_merge[\"Tumor Volume (mm3)\"]"
   ]
  },
  {
   "cell_type": "code",
   "execution_count": null,
   "id": "0f61ab33",
   "metadata": {},
   "outputs": [],
   "source": [
    "# Capture Ramicane in quartiles, lowerq, upper and iqr\n",
    "quartile2 = Ramicane_tumors.quantile([.25,.5,.75])\n",
    "lowerq2 = quartile2[0.25]\n",
    "upperq2 = quartile2[0.75]\n",
    "iqr2 = upperq2-lowerq2"
   ]
  },
  {
   "cell_type": "code",
   "execution_count": null,
   "id": "a6d94926",
   "metadata": {},
   "outputs": [],
   "source": [
    "# Print tumor quartiles\n",
    "print(f\"The lower quartile of Ramicane tumors: {lowerq2}\")\n",
    "print(f\"The upper quartile of Ramicane tumors: {upperq2}\")\n",
    "print(f\"The interquartile range of Ramicane tumors: {iqr2}\")\n",
    "print(f\"The median of Ramicane tumors: {quartile2[0.5]} \")"
   ]
  },
  {
   "cell_type": "code",
   "execution_count": null,
   "id": "cd00085c",
   "metadata": {},
   "outputs": [],
   "source": [
    "# Capture Ramicane outliers\n",
    "lower_bound2 = lowerq2 - (1.5*iqr)\n",
    "upper_bound2 = upperq2 + (1.5*iqr)"
   ]
  },
  {
   "cell_type": "code",
   "execution_count": null,
   "id": "b1dbd045",
   "metadata": {},
   "outputs": [],
   "source": [
    "# Print outliter values\n",
    "print(f\"Ramicane values below {lower_bound2} and above {upper_bound2} could be potential outliers.\")"
   ]
  },
  {
   "cell_type": "code",
   "execution_count": null,
   "id": "88964197",
   "metadata": {},
   "outputs": [],
   "source": [
    "# Third Infubinol (3)\n",
    "Infubinol_last = Infubinol_df.groupby('Mouse ID').max()['Timepoint']\n",
    "Infubinol_volume = pd.DataFrame(Infubinol_last)\n",
    "Infubinol_merge = pd.merge(Infubinol_volume, combined_duplicate_removal, on=(\"Mouse ID\",\"Timepoint\"),how=\"left\")\n",
    "Infubinol_merge.head()"
   ]
  },
  {
   "cell_type": "code",
   "execution_count": null,
   "id": "7bf0d123",
   "metadata": {},
   "outputs": [],
   "source": [
    "# Capture tumor volume\n",
    "Infubinol_tumors = Infubinol_merge[\"Tumor Volume (mm3)\"]"
   ]
  },
  {
   "cell_type": "code",
   "execution_count": null,
   "id": "a7a1e107",
   "metadata": {},
   "outputs": [],
   "source": [
    "# Capture Infubinol in quartiles, lowerq, upper and iqr\n",
    "quartile3 = Infubinol_tumors.quantile([.25,.5,.75])\n",
    "lowerq3 = quartile3[0.25]\n",
    "upperq3 = quartile3[0.75]\n",
    "iqr3 = upperq3-lowerq3"
   ]
  },
  {
   "cell_type": "code",
   "execution_count": null,
   "id": "ed7bdf99",
   "metadata": {},
   "outputs": [],
   "source": [
    "# Print tumor quartiles\n",
    "print(f\"The lower quartile of Infubinol tumors: {lowerq3}\")\n",
    "print(f\"The upper quartile of Infubinol tumors: {upperq3}\")\n",
    "print(f\"The interquartile range of Infubinol tumors: {iqr3}\")\n",
    "print(f\"The median of Infubinol tumors: {quartile3[0.5]} \")"
   ]
  },
  {
   "cell_type": "code",
   "execution_count": null,
   "id": "3e125a34",
   "metadata": {},
   "outputs": [],
   "source": [
    "# Capture Infubinol outliers\n",
    "lower_bound3 = lowerq3 - (1.5*iqr)\n",
    "upper_bound3 = upperq3 + (1.5*iqr)"
   ]
  },
  {
   "cell_type": "code",
   "execution_count": null,
   "id": "283d265e",
   "metadata": {},
   "outputs": [],
   "source": [
    "# Print outliter values\n",
    "print(f\"Infubinol values below {lower_bound3} and above {upper_bound3} could be potential outliers.\")"
   ]
  },
  {
   "cell_type": "code",
   "execution_count": null,
   "id": "b8e3d8dc",
   "metadata": {},
   "outputs": [],
   "source": [
    "# Fourth Ceftamin (4)\n",
    "Ceftamin_last = Ceftamin_df.groupby('Mouse ID').max()['Timepoint']\n",
    "Ceftamin_volume = pd.DataFrame(Ceftamin_last)\n",
    "Ceftamin_merge = pd.merge(Ceftamin_volume, combined_duplicate_removal, on=(\"Mouse ID\",\"Timepoint\"),how=\"left\")\n",
    "Ceftamin_merge.head()"
   ]
  },
  {
   "cell_type": "code",
   "execution_count": null,
   "id": "1edf3207",
   "metadata": {},
   "outputs": [],
   "source": [
    "# Capture tumor volume\n",
    "Ceftamin_tumors = Ceftamin_merge[\"Tumor Volume (mm3)\"]"
   ]
  },
  {
   "cell_type": "code",
   "execution_count": null,
   "id": "501e0453",
   "metadata": {},
   "outputs": [],
   "source": [
    "# Capture Ceftamin in quartiles, lowerq, upper and iqr\n",
    "quartile4 = Ceftamin_tumors.quantile([.25,.5,.75])\n",
    "lowerq4 = quartile4[0.25]\n",
    "upperq4 = quartile4[0.75]\n",
    "iqr4 = upperq4-lowerq4"
   ]
  },
  {
   "cell_type": "code",
   "execution_count": null,
   "id": "d518871c",
   "metadata": {},
   "outputs": [],
   "source": [
    "# Print tumor quartiles\n",
    "print(f\"The lower quartile of Ceftamin tumors: {lowerq4}\")\n",
    "print(f\"The upper quartile of Ceftamin tumors: {upperq4}\")\n",
    "print(f\"The interquartile range of Ceftamin tumors: {iqr4}\")\n",
    "print(f\"The median of Ceftamin tumors: {quartile4[0.5]} \")"
   ]
  },
  {
   "cell_type": "code",
   "execution_count": null,
   "id": "0f068ec9",
   "metadata": {},
   "outputs": [],
   "source": [
    "# Capture Ceftamin outliers\n",
    "lower_bound4 = lowerq4 - (1.5*iqr)\n",
    "upper_bound4 = upperq4 + (1.5*iqr)"
   ]
  },
  {
   "cell_type": "code",
   "execution_count": null,
   "id": "5a290dba",
   "metadata": {},
   "outputs": [],
   "source": [
    "# Print outliter values\n",
    "print(f\"Infubinol values below {lower_bound4} and above {upper_bound4} could be potential outliers.\")"
   ]
  },
  {
   "cell_type": "code",
   "execution_count": null,
   "id": "da506a9f",
   "metadata": {},
   "outputs": [],
   "source": [
    "# Generate a box plot that shows the distrubution of the tumor volume for each treatment group.\n",
    "plot_data = [Capomulin_tumors, Ramicane_tumors, Infubinol_tumors, Ceftamin_tumors]\n",
    "\n",
    "fig1, ax1 = plt.subplots()\n",
    "ax1.set_title('Tumors')\n",
    "ax1.set_ylabel('Final Tumor Volume (mm3)')\n",
    "ax1.set_xlabel('Drug Regimen')\n",
    "\n",
    "ax1.boxplot(plot_data, labels=[\"Capomulin\",\"Ramicane\",\"Infubinol\",\"Ceftamin\",])\n",
    "\n",
    "plt.show()"
   ]
  },
  {
   "cell_type": "markdown",
   "id": "b026198a",
   "metadata": {},
   "source": [
    "# Line and Scatter Plots"
   ]
  },
  {
   "cell_type": "code",
   "execution_count": null,
   "id": "7d26bba2",
   "metadata": {},
   "outputs": [],
   "source": [
    "# Display Mouse ID by desired lineplot \"l509\"\n",
    "plot_line = Capomulin_df.loc[Capomulin_df[\"Mouse ID\"] == \"l509\", :]\n",
    "plot_line.head()"
   ]
  },
  {
   "cell_type": "code",
   "execution_count": null,
   "id": "0bc497b6",
   "metadata": {},
   "outputs": [],
   "source": [
    "# Generate a line plot of tumor volume vs. time point for a single mouse treated with Capomulin\n",
    "\n",
    "timepoint_x_axis = plot_line['Timepoint']\n",
    "Tumorvol_y_axis = plot_line['Tumor Volume (mm3)']\n",
    "\n",
    "plt.title('Capomulin treatment of mouse l509')\n",
    "plt.plot(timepoint_x_axis, Tumorvol_y_axis,linewidth=2, markersize=10)\n",
    "plt.xlabel('Timepoint (days)')\n",
    "plt.ylabel('Tumor Volume (mm3)')\n",
    "\n",
    "plt.show()"
   ]
  },
  {
   "cell_type": "code",
   "execution_count": null,
   "id": "7ec10114",
   "metadata": {},
   "outputs": [],
   "source": [
    "# Generate a scatter plot of mouse weight vs. the average observed tumor volume for the entire Capomulin regimen\n",
    "Capomulin_scatter_plot = Capomulin_df.groupby([\"Mouse ID\"]).mean()\n",
    "plt.scatter(Capomulin_scatter_plot['Weight (g)'],Capomulin_scatter_plot['Tumor Volume (mm3)'])\n",
    "plt.xlabel('Weight (g)')\n",
    "plt.ylabel('Average Tumor Volume (mm3)')\n",
    "\n",
    "plt.show()"
   ]
  },
  {
   "cell_type": "markdown",
   "id": "46447f9a",
   "metadata": {},
   "source": [
    "# Correlation and Regression"
   ]
  },
  {
   "cell_type": "code",
   "execution_count": null,
   "id": "5ffc459e",
   "metadata": {},
   "outputs": [],
   "source": [
    "# Calculate the correlation coefficient and a linear regression model \n",
    "correlation = round(st.pearsonr(Capomulin_scatter_plot['Weight (g)'], Capomulin_scatter_plot['Tumor Volume (mm3)'])[0],2)\n",
    "print(f\"The correlation between mouse weight and average tumor volume is {correlation}\")"
   ]
  },
  {
   "cell_type": "code",
   "execution_count": null,
   "id": "fc8c01dc",
   "metadata": {},
   "outputs": [],
   "source": [
    "# for mouse weight and average observed tumor volume for the entire Capomulin regimen\n",
    "# Add the linear regression equation and results\n",
    "linear_reg = st.linregress(Capomulin_scatter_plot['Weight (g)'],Capomulin_scatter_plot['Tumor Volume (mm3)'])\n",
    "linear_reg"
   ]
  },
  {
   "cell_type": "code",
   "execution_count": null,
   "id": "77657b56",
   "metadata": {},
   "outputs": [],
   "source": [
    "# Use linregress results to obtain slope and intercept\n",
    "m_slope = 0.9544396890241045\n",
    "m_intercept = 21.552160532685015"
   ]
  },
  {
   "cell_type": "code",
   "execution_count": null,
   "id": "60a4f60f",
   "metadata": {},
   "outputs": [],
   "source": [
    "y_values = Capomulin_scatter_plot['Weight (g)']*m_slope+m_intercept\n",
    "plt.scatter(Capomulin_scatter_plot['Weight (g)'],Capomulin_scatter_plot['Tumor Volume (mm3)'])\n",
    "plt.plot(Capomulin_scatter_plot['Weight (g)'],y_values,color=\"r\")\n",
    "plt.ylabel(\"Average Tumor Volume (mm3)\")\n",
    "\n",
    "plt.show()"
   ]
  }
 ],
 "metadata": {
  "kernelspec": {
   "display_name": "PythonData",
   "language": "python",
   "name": "pythondata"
  },
  "language_info": {
   "codemirror_mode": {
    "name": "ipython",
    "version": 3
   },
   "file_extension": ".py",
   "mimetype": "text/x-python",
   "name": "python",
   "nbconvert_exporter": "python",
   "pygments_lexer": "ipython3",
   "version": "3.7.7"
  }
 },
 "nbformat": 4,
 "nbformat_minor": 5
}
